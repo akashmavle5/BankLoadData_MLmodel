{
 "cells": [
  {
   "cell_type": "code",
   "execution_count": 1,
   "metadata": {},
   "outputs": [],
   "source": [
    "#Allows charts to appear in the notebook\n",
    "%matplotlib inline\n",
    "\n",
    "#libraries for analysis\n",
    "import pandas as pd\n",
    "import numpy as np\n",
    "from sklearn.model_selection import train_test_split\n",
    "# from sklearn.linear_model import LogisticRegression\n",
    "# classifier = LogisticRegression()\n",
    "from sklearn.pipeline import make_pipeline\n",
    "from sklearn.preprocessing import StandardScaler, normalize\n",
    "from sklearn.ensemble import RandomForestClassifier\n",
    "rf = RandomForestClassifier(n_estimators=200,n_jobs=-1)\n",
    "\n",
    "#libraries for visualization\n",
    "import matplotlib.pyplot as plt\n",
    "import seaborn as sns; sns.set(font_scale=1.2)"
   ]
  },
  {
   "cell_type": "code",
   "execution_count": 2,
   "metadata": {},
   "outputs": [
    {
     "data": {
      "text/html": [
       "<div>\n",
       "<style scoped>\n",
       "    .dataframe tbody tr th:only-of-type {\n",
       "        vertical-align: middle;\n",
       "    }\n",
       "\n",
       "    .dataframe tbody tr th {\n",
       "        vertical-align: top;\n",
       "    }\n",
       "\n",
       "    .dataframe thead th {\n",
       "        text-align: right;\n",
       "    }\n",
       "</style>\n",
       "<table border=\"1\" class=\"dataframe\">\n",
       "  <thead>\n",
       "    <tr style=\"text-align: right;\">\n",
       "      <th></th>\n",
       "      <th>grade</th>\n",
       "      <th>Years_At_Present_Employment</th>\n",
       "      <th>Housing</th>\n",
       "      <th>loan_status</th>\n",
       "      <th>dti</th>\n",
       "      <th>Delinquency</th>\n",
       "      <th>Collections</th>\n",
       "      <th>Derogatory</th>\n",
       "    </tr>\n",
       "  </thead>\n",
       "  <tbody>\n",
       "    <tr>\n",
       "      <th>0</th>\n",
       "      <td>2</td>\n",
       "      <td>10</td>\n",
       "      <td>MORTGAGE</td>\n",
       "      <td>Current</td>\n",
       "      <td>11.52</td>\n",
       "      <td>1</td>\n",
       "      <td>0</td>\n",
       "      <td>0</td>\n",
       "    </tr>\n",
       "    <tr>\n",
       "      <th>1</th>\n",
       "      <td>2</td>\n",
       "      <td>4</td>\n",
       "      <td>RENT</td>\n",
       "      <td>Current</td>\n",
       "      <td>13.43</td>\n",
       "      <td>0</td>\n",
       "      <td>0</td>\n",
       "      <td>0</td>\n",
       "    </tr>\n",
       "    <tr>\n",
       "      <th>2</th>\n",
       "      <td>3</td>\n",
       "      <td>10</td>\n",
       "      <td>MORTGAGE</td>\n",
       "      <td>Current</td>\n",
       "      <td>31.07</td>\n",
       "      <td>0</td>\n",
       "      <td>0</td>\n",
       "      <td>0</td>\n",
       "    </tr>\n",
       "    <tr>\n",
       "      <th>3</th>\n",
       "      <td>5</td>\n",
       "      <td>10</td>\n",
       "      <td>MORTGAGE</td>\n",
       "      <td>Current</td>\n",
       "      <td>6.06</td>\n",
       "      <td>0</td>\n",
       "      <td>0</td>\n",
       "      <td>0</td>\n",
       "    </tr>\n",
       "    <tr>\n",
       "      <th>4</th>\n",
       "      <td>3</td>\n",
       "      <td>4</td>\n",
       "      <td>OWN</td>\n",
       "      <td>Current</td>\n",
       "      <td>17.48</td>\n",
       "      <td>0</td>\n",
       "      <td>0</td>\n",
       "      <td>0</td>\n",
       "    </tr>\n",
       "  </tbody>\n",
       "</table>\n",
       "</div>"
      ],
      "text/plain": [
       "   grade  Years_At_Present_Employment   Housing loan_status    dti  \\\n",
       "0      2                           10  MORTGAGE     Current  11.52   \n",
       "1      2                            4      RENT     Current  13.43   \n",
       "2      3                           10  MORTGAGE     Current  31.07   \n",
       "3      5                           10  MORTGAGE     Current   6.06   \n",
       "4      3                            4       OWN     Current  17.48   \n",
       "\n",
       "   Delinquency  Collections  Derogatory  \n",
       "0            1            0           0  \n",
       "1            0            0           0  \n",
       "2            0            0           0  \n",
       "3            0            0           0  \n",
       "4            0            0           0  "
      ]
     },
     "execution_count": 2,
     "metadata": {},
     "output_type": "execute_result"
    }
   ],
   "source": [
    "#Read data from spreadsheet\n",
    "df = pd.read_csv(\"2017_LoanData - Copy - Cat.csv\", header=0, index_col=None)\n",
    "df.head()"
   ]
  },
  {
   "cell_type": "code",
   "execution_count": 3,
   "metadata": {},
   "outputs": [
    {
     "data": {
      "text/html": [
       "<div>\n",
       "<style scoped>\n",
       "    .dataframe tbody tr th:only-of-type {\n",
       "        vertical-align: middle;\n",
       "    }\n",
       "\n",
       "    .dataframe tbody tr th {\n",
       "        vertical-align: top;\n",
       "    }\n",
       "\n",
       "    .dataframe thead th {\n",
       "        text-align: right;\n",
       "    }\n",
       "</style>\n",
       "<table border=\"1\" class=\"dataframe\">\n",
       "  <thead>\n",
       "    <tr style=\"text-align: right;\">\n",
       "      <th></th>\n",
       "      <th>grade</th>\n",
       "      <th>Years_At_Present_Employment</th>\n",
       "      <th>dti</th>\n",
       "      <th>Delinquency</th>\n",
       "      <th>Collections</th>\n",
       "      <th>Derogatory</th>\n",
       "      <th>Housing_MORTGAGE</th>\n",
       "      <th>Housing_OWN</th>\n",
       "      <th>Housing_RENT</th>\n",
       "    </tr>\n",
       "  </thead>\n",
       "  <tbody>\n",
       "    <tr>\n",
       "      <th>0</th>\n",
       "      <td>2</td>\n",
       "      <td>10</td>\n",
       "      <td>11.52</td>\n",
       "      <td>1</td>\n",
       "      <td>0</td>\n",
       "      <td>0</td>\n",
       "      <td>1</td>\n",
       "      <td>0</td>\n",
       "      <td>0</td>\n",
       "    </tr>\n",
       "    <tr>\n",
       "      <th>1</th>\n",
       "      <td>2</td>\n",
       "      <td>4</td>\n",
       "      <td>13.43</td>\n",
       "      <td>0</td>\n",
       "      <td>0</td>\n",
       "      <td>0</td>\n",
       "      <td>0</td>\n",
       "      <td>0</td>\n",
       "      <td>1</td>\n",
       "    </tr>\n",
       "    <tr>\n",
       "      <th>2</th>\n",
       "      <td>3</td>\n",
       "      <td>10</td>\n",
       "      <td>31.07</td>\n",
       "      <td>0</td>\n",
       "      <td>0</td>\n",
       "      <td>0</td>\n",
       "      <td>1</td>\n",
       "      <td>0</td>\n",
       "      <td>0</td>\n",
       "    </tr>\n",
       "    <tr>\n",
       "      <th>3</th>\n",
       "      <td>5</td>\n",
       "      <td>10</td>\n",
       "      <td>6.06</td>\n",
       "      <td>0</td>\n",
       "      <td>0</td>\n",
       "      <td>0</td>\n",
       "      <td>1</td>\n",
       "      <td>0</td>\n",
       "      <td>0</td>\n",
       "    </tr>\n",
       "    <tr>\n",
       "      <th>4</th>\n",
       "      <td>3</td>\n",
       "      <td>4</td>\n",
       "      <td>17.48</td>\n",
       "      <td>0</td>\n",
       "      <td>0</td>\n",
       "      <td>0</td>\n",
       "      <td>0</td>\n",
       "      <td>1</td>\n",
       "      <td>0</td>\n",
       "    </tr>\n",
       "  </tbody>\n",
       "</table>\n",
       "</div>"
      ],
      "text/plain": [
       "   grade  Years_At_Present_Employment    dti  Delinquency  Collections  \\\n",
       "0      2                           10  11.52            1            0   \n",
       "1      2                            4  13.43            0            0   \n",
       "2      3                           10  31.07            0            0   \n",
       "3      5                           10   6.06            0            0   \n",
       "4      3                            4  17.48            0            0   \n",
       "\n",
       "   Derogatory  Housing_MORTGAGE  Housing_OWN  Housing_RENT  \n",
       "0           0                 1            0             0  \n",
       "1           0                 0            0             1  \n",
       "2           0                 1            0             0  \n",
       "3           0                 1            0             0  \n",
       "4           0                 0            1             0  "
      ]
     },
     "execution_count": 3,
     "metadata": {},
     "output_type": "execute_result"
    }
   ],
   "source": [
    "# change the categorical data to binary\n",
    "df_X = df.drop(\"loan_status\", axis=1)\n",
    "df_X = pd.get_dummies(df_X)\n",
    "df_X.head()"
   ]
  },
  {
   "cell_type": "code",
   "execution_count": 4,
   "metadata": {},
   "outputs": [
    {
     "name": "stdout",
     "output_type": "stream",
     "text": [
      "[1 1 1 ... 1 1 1]\n"
     ]
    }
   ],
   "source": [
    "# sorting y or to be predicted labels\n",
    "df_y = df[\"loan_status\"]\n",
    "df_y = pd.get_dummies(df_y)\n",
    "current_labels = df_y[\"Current\"].values\n",
    "print(current_labels)"
   ]
  },
  {
   "cell_type": "code",
   "execution_count": 5,
   "metadata": {},
   "outputs": [
    {
     "name": "stdout",
     "output_type": "stream",
     "text": [
      "77337, 365843, 82.54952840832168%\n"
     ]
    }
   ],
   "source": [
    "# checking the default values in the dataset to ensure that ML model predicts more than just the random pick\n",
    "nd,d = df[\"loan_status\"].value_counts()\n",
    "print(f'{d}, {nd}, {nd/(d+nd)*100}%')"
   ]
  },
  {
   "cell_type": "code",
   "execution_count": 6,
   "metadata": {},
   "outputs": [],
   "source": [
    "# define X and y\n",
    "X = df_X.values\n",
    "y = current_labels"
   ]
  },
  {
   "cell_type": "code",
   "execution_count": 7,
   "metadata": {},
   "outputs": [],
   "source": [
    "# split the data to train and test\n",
    "from sklearn.model_selection import train_test_split\n",
    "\n",
    "X_train, X_test, y_train, y_test = train_test_split(X, y, random_state=1, stratify=y)"
   ]
  },
  {
   "cell_type": "code",
   "execution_count": null,
   "metadata": {},
   "outputs": [],
   "source": [
    "# normalize the input data\n",
    "# X_tr_scaler = normalize(X_train, axis=1)\n",
    "# X_tst_scaler = normalize(X_test, axis=1)\n"
   ]
  },
  {
   "cell_type": "code",
   "execution_count": null,
   "metadata": {},
   "outputs": [],
   "source": [
    "# %%time\n",
    "# # create and fit a logistic regression model\n",
    "# from sklearn.metrics import accuracy_score\n",
    "# pipeline_model = make_pipeline(StandardScaler(), classifier)\n",
    "# pipeline_model.fit(X_train, y_train)"
   ]
  },
  {
   "cell_type": "code",
   "execution_count": 8,
   "metadata": {},
   "outputs": [
    {
     "name": "stdout",
     "output_type": "stream",
     "text": [
      "Wall time: 32 s\n"
     ]
    }
   ],
   "source": [
    "%%time\n",
    "# create and fit a random forest model\n",
    "from sklearn.metrics import accuracy_score\n",
    "pipeline_model = make_pipeline(StandardScaler(), rf)\n",
    "pipeline_model.fit(X_train, y_train)"
   ]
  },
  {
   "cell_type": "code",
   "execution_count": 9,
   "metadata": {},
   "outputs": [],
   "source": [
    "# print(f\"Training Data Score: {classifier.score(X_train, y_train)}\")\n",
    "# print(f\"Testing Data Score: {classifier.score(X_test, y_test)}\")"
   ]
  },
  {
   "cell_type": "code",
   "execution_count": 10,
   "metadata": {},
   "outputs": [
    {
     "name": "stdout",
     "output_type": "stream",
     "text": [
      "0.9897438211712322\n"
     ]
    }
   ],
   "source": [
    "predictions_tr = pipeline_model.predict(X_train)\n",
    "print(accuracy_score(predictions_tr, y_train))"
   ]
  },
  {
   "cell_type": "code",
   "execution_count": 11,
   "metadata": {},
   "outputs": [
    {
     "name": "stdout",
     "output_type": "stream",
     "text": [
      "0.92957263414414\n"
     ]
    }
   ],
   "source": [
    "predictions = pipeline_model.predict(X_test)\n",
    "print(accuracy_score(predictions, y_test))"
   ]
  },
  {
   "cell_type": "code",
   "execution_count": 12,
   "metadata": {},
   "outputs": [
    {
     "data": {
      "text/plain": [
       "[(0.27698068615351856, 'dti'),\n",
       " (0.24474033858965352, 'grade'),\n",
       " (0.21452670169628163, 'Derogatory'),\n",
       " (0.14111996504136343, 'Collections'),\n",
       " (0.10758993890885156, 'Delinquency'),\n",
       " (0.012678749187204347, 'Years_At_Present_Employment'),\n",
       " (0.0010194640033150163, 'Housing_MORTGAGE'),\n",
       " (0.0009475206369238366, 'Housing_RENT'),\n",
       " (0.0003966357828879942, 'Housing_OWN')]"
      ]
     },
     "execution_count": 12,
     "metadata": {},
     "output_type": "execute_result"
    }
   ],
   "source": [
    "# calculate feature importance, less important features may be ignored\n",
    "importances = rf.feature_importances_\n",
    "sorted(zip(rf.feature_importances_, df_X.columns), reverse=True)"
   ]
  },
  {
   "cell_type": "code",
   "execution_count": 13,
   "metadata": {},
   "outputs": [
    {
     "name": "stdout",
     "output_type": "stream",
     "text": [
      "['grade', 'Years_At_Present_Employment', 'dti', 'Delinquency', 'Collections', 'Derogatory', 'Housing_MORTGAGE', 'Housing_OWN', 'Housing_RENT']\n",
      "[ 1.   10.   15.44  0.    0.    0.    1.    0.    0.  ]\n"
     ]
    }
   ],
   "source": [
    "print(df_X.columns.tolist())\n",
    "print(X_train[0])"
   ]
  },
  {
   "cell_type": "code",
   "execution_count": 14,
   "metadata": {},
   "outputs": [
    {
     "name": "stdout",
     "output_type": "stream",
     "text": [
      "[1]\n"
     ]
    }
   ],
   "source": [
    "yy = [[ 1.  , 10.  , 80,  0.  ,  0.  ,  1.  ,  1.  ,  0.  ,  0.  ]]\n",
    "print(pipeline_model.predict(yy))"
   ]
  },
  {
   "cell_type": "code",
   "execution_count": 17,
   "metadata": {},
   "outputs": [],
   "source": [
    "# plot roc curve and calculate area under the curve\n",
    "from sklearn.metrics import roc_curve, auc\n",
    "# y_score = pipeline_model.fit(X_train, y_train).decision_function(X_test) #for LR and SVM\n",
    "y_score = pipeline_model.fit(X_train, y_train).predict(X_test) #for RF\n",
    "fpr, tpr, _ = roc_curve(y_test, y_score)\n",
    "# fpr, tpr = roc_curve(y_test, y_score[0])\n",
    "roc_auc = auc(fpr,tpr)"
   ]
  },
  {
   "cell_type": "code",
   "execution_count": 18,
   "metadata": {},
   "outputs": [
    {
     "data": {
      "image/png": "[encoded data removed]",
      "text/plain": [
       "<Figure size 432x288 with 1 Axes>"
      ]
     },
     "metadata": {
      "needs_background": "light"
     },
     "output_type": "display_data"
    }
   ],
   "source": [
    "# plot fpr and tpr values\n",
    "plt.figure()\n",
    "lw = 2\n",
    "plt.plot(fpr, tpr, color='darkorange',\n",
    "         lw=lw, label='ROC curve (area = %0.2f)' % roc_auc)\n",
    "plt.plot([0, 1], [0, 1], color='navy', lw=lw, linestyle='--')\n",
    "plt.xlim([-0.05, 1.0])\n",
    "plt.ylim([0.0, 1.05])\n",
    "plt.xlabel('False Positive Rate')\n",
    "plt.ylabel('True Positive Rate')\n",
    "plt.legend(loc=\"lower right\")\n",
    "plt.show()"
   ]
  },
  {
   "cell_type": "markdown",
   "metadata": {},
   "source": [
    "Good value of area under roc curve proves that the model is doing a decent job of prediction"
   ]
  },
  {
   "cell_type": "code",
   "execution_count": null,
   "metadata": {},
   "outputs": [],
   "source": []
  }
 ],
 "metadata": {
  "kernelspec": {
   "display_name": "Python [conda env:PythonData]",
   "language": "python",
   "name": "conda-env-PythonData-py"
  },
  "language_info": {
   "codemirror_mode": {
    "name": "ipython",
    "version": 3
   },
   "file_extension": ".py",
   "mimetype": "text/x-python",
   "name": "python",
   "nbconvert_exporter": "python",
   "pygments_lexer": "ipython3",
   "version": "3.6.6"
  }
 },
 "nbformat": 4,
 "nbformat_minor": 2
}
